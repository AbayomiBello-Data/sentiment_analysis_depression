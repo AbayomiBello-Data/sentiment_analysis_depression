{
 "cells": [
  {
   "cell_type": "markdown",
   "id": "3ac0ec20",
   "metadata": {},
   "source": [
    "## IMPORT LIBRARIES"
   ]
  },
  {
   "cell_type": "code",
   "execution_count": 100,
   "id": "f41b4882",
   "metadata": {},
   "outputs": [],
   "source": [
    "import numpy as np\n",
    "import pandas as pd\n",
    "import matplotlib.pyplot as plt\n",
    "import seaborn as sns\n",
    "from sklearn.model_selection import train_test_split\n",
    "from keras_preprocessing.text import Tokenizer\n",
    "import keras\n",
    "import tensorflow as tf\n",
    "from keras.preprocessing.sequence import pad_sequences\n",
    "from keras.layers import Embedding, Dense\n",
    "from keras.models import Sequential\n",
    "from tensorflow.keras.layers import LSTM,Dense, Dropout, SpatialDropout1D\n",
    "import datetime\n",
    "from keras.callbacks import TensorBoard"
   ]
  },
  {
   "cell_type": "markdown",
   "id": "9c64cfe8",
   "metadata": {},
   "source": [
    "## IMPORT DATASET"
   ]
  },
  {
   "cell_type": "code",
   "execution_count": 101,
   "id": "85241035",
   "metadata": {},
   "outputs": [
    {
     "data": {
      "text/html": [
       "<div>\n",
       "<style scoped>\n",
       "    .dataframe tbody tr th:only-of-type {\n",
       "        vertical-align: middle;\n",
       "    }\n",
       "\n",
       "    .dataframe tbody tr th {\n",
       "        vertical-align: top;\n",
       "    }\n",
       "\n",
       "    .dataframe thead th {\n",
       "        text-align: right;\n",
       "    }\n",
       "</style>\n",
       "<table border=\"1\" class=\"dataframe\">\n",
       "  <thead>\n",
       "    <tr style=\"text-align: right;\">\n",
       "      <th></th>\n",
       "      <th>Index</th>\n",
       "      <th>message to examine</th>\n",
       "      <th>label (depression result)</th>\n",
       "    </tr>\n",
       "  </thead>\n",
       "  <tbody>\n",
       "    <tr>\n",
       "      <th>0</th>\n",
       "      <td>106</td>\n",
       "      <td>just had a real good moment. i missssssssss hi...</td>\n",
       "      <td>0</td>\n",
       "    </tr>\n",
       "    <tr>\n",
       "      <th>1</th>\n",
       "      <td>217</td>\n",
       "      <td>is reading manga  http://plurk.com/p/mzp1e</td>\n",
       "      <td>0</td>\n",
       "    </tr>\n",
       "    <tr>\n",
       "      <th>2</th>\n",
       "      <td>220</td>\n",
       "      <td>@comeagainjen http://twitpic.com/2y2lx - http:...</td>\n",
       "      <td>0</td>\n",
       "    </tr>\n",
       "    <tr>\n",
       "      <th>3</th>\n",
       "      <td>288</td>\n",
       "      <td>@lapcat Need to send 'em to my accountant tomo...</td>\n",
       "      <td>0</td>\n",
       "    </tr>\n",
       "    <tr>\n",
       "      <th>4</th>\n",
       "      <td>540</td>\n",
       "      <td>ADD ME ON MYSPACE!!!  myspace.com/LookThunder</td>\n",
       "      <td>0</td>\n",
       "    </tr>\n",
       "    <tr>\n",
       "      <th>...</th>\n",
       "      <td>...</td>\n",
       "      <td>...</td>\n",
       "      <td>...</td>\n",
       "    </tr>\n",
       "    <tr>\n",
       "      <th>10309</th>\n",
       "      <td>802309</td>\n",
       "      <td>No Depression by G Herbo is my mood from now o...</td>\n",
       "      <td>1</td>\n",
       "    </tr>\n",
       "    <tr>\n",
       "      <th>10310</th>\n",
       "      <td>802310</td>\n",
       "      <td>What do you do when depression succumbs the br...</td>\n",
       "      <td>1</td>\n",
       "    </tr>\n",
       "    <tr>\n",
       "      <th>10311</th>\n",
       "      <td>802311</td>\n",
       "      <td>Ketamine Nasal Spray Shows Promise Against Dep...</td>\n",
       "      <td>1</td>\n",
       "    </tr>\n",
       "    <tr>\n",
       "      <th>10312</th>\n",
       "      <td>802312</td>\n",
       "      <td>dont mistake a bad day with depression! everyo...</td>\n",
       "      <td>1</td>\n",
       "    </tr>\n",
       "    <tr>\n",
       "      <th>10313</th>\n",
       "      <td>802313</td>\n",
       "      <td>0</td>\n",
       "      <td>1</td>\n",
       "    </tr>\n",
       "  </tbody>\n",
       "</table>\n",
       "<p>10314 rows × 3 columns</p>\n",
       "</div>"
      ],
      "text/plain": [
       "        Index                                 message to examine  \\\n",
       "0         106  just had a real good moment. i missssssssss hi...   \n",
       "1         217         is reading manga  http://plurk.com/p/mzp1e   \n",
       "2         220  @comeagainjen http://twitpic.com/2y2lx - http:...   \n",
       "3         288  @lapcat Need to send 'em to my accountant tomo...   \n",
       "4         540      ADD ME ON MYSPACE!!!  myspace.com/LookThunder   \n",
       "...       ...                                                ...   \n",
       "10309  802309  No Depression by G Herbo is my mood from now o...   \n",
       "10310  802310  What do you do when depression succumbs the br...   \n",
       "10311  802311  Ketamine Nasal Spray Shows Promise Against Dep...   \n",
       "10312  802312  dont mistake a bad day with depression! everyo...   \n",
       "10313  802313                                                  0   \n",
       "\n",
       "       label (depression result)  \n",
       "0                              0  \n",
       "1                              0  \n",
       "2                              0  \n",
       "3                              0  \n",
       "4                              0  \n",
       "...                          ...  \n",
       "10309                          1  \n",
       "10310                          1  \n",
       "10311                          1  \n",
       "10312                          1  \n",
       "10313                          1  \n",
       "\n",
       "[10314 rows x 3 columns]"
      ]
     },
     "execution_count": 101,
     "metadata": {},
     "output_type": "execute_result"
    }
   ],
   "source": [
    "dataset = pd.read_csv('sentiment_tweets3.csv')\n",
    "dataset"
   ]
  },
  {
   "cell_type": "markdown",
   "id": "8eb6f774",
   "metadata": {},
   "source": [
    "## PREPARING THE DATASET"
   ]
  },
  {
   "cell_type": "code",
   "execution_count": 102,
   "id": "82b7c65c",
   "metadata": {},
   "outputs": [
    {
     "data": {
      "text/plain": [
       "Index(['Index', 'message to examine', 'label (depression result)'], dtype='object')"
      ]
     },
     "execution_count": 102,
     "metadata": {},
     "output_type": "execute_result"
    }
   ],
   "source": [
    "dataset.columns ## checking through the dataset to decide the needed one for the analysis"
   ]
  },
  {
   "cell_type": "code",
   "execution_count": 103,
   "id": "83ac7a01",
   "metadata": {},
   "outputs": [],
   "source": [
    "## re naming the columns\n",
    "dataset= dataset.rename(columns = {'message to examine': 'message', 'label (depression result)': 'label'})"
   ]
  },
  {
   "cell_type": "code",
   "execution_count": 104,
   "id": "e7004905",
   "metadata": {},
   "outputs": [
    {
     "data": {
      "text/html": [
       "<div>\n",
       "<style scoped>\n",
       "    .dataframe tbody tr th:only-of-type {\n",
       "        vertical-align: middle;\n",
       "    }\n",
       "\n",
       "    .dataframe tbody tr th {\n",
       "        vertical-align: top;\n",
       "    }\n",
       "\n",
       "    .dataframe thead th {\n",
       "        text-align: right;\n",
       "    }\n",
       "</style>\n",
       "<table border=\"1\" class=\"dataframe\">\n",
       "  <thead>\n",
       "    <tr style=\"text-align: right;\">\n",
       "      <th></th>\n",
       "      <th>Index</th>\n",
       "      <th>message</th>\n",
       "      <th>label</th>\n",
       "    </tr>\n",
       "  </thead>\n",
       "  <tbody>\n",
       "    <tr>\n",
       "      <th>0</th>\n",
       "      <td>106</td>\n",
       "      <td>just had a real good moment. i missssssssss hi...</td>\n",
       "      <td>0</td>\n",
       "    </tr>\n",
       "    <tr>\n",
       "      <th>1</th>\n",
       "      <td>217</td>\n",
       "      <td>is reading manga  http://plurk.com/p/mzp1e</td>\n",
       "      <td>0</td>\n",
       "    </tr>\n",
       "    <tr>\n",
       "      <th>2</th>\n",
       "      <td>220</td>\n",
       "      <td>@comeagainjen http://twitpic.com/2y2lx - http:...</td>\n",
       "      <td>0</td>\n",
       "    </tr>\n",
       "    <tr>\n",
       "      <th>3</th>\n",
       "      <td>288</td>\n",
       "      <td>@lapcat Need to send 'em to my accountant tomo...</td>\n",
       "      <td>0</td>\n",
       "    </tr>\n",
       "    <tr>\n",
       "      <th>4</th>\n",
       "      <td>540</td>\n",
       "      <td>ADD ME ON MYSPACE!!!  myspace.com/LookThunder</td>\n",
       "      <td>0</td>\n",
       "    </tr>\n",
       "    <tr>\n",
       "      <th>...</th>\n",
       "      <td>...</td>\n",
       "      <td>...</td>\n",
       "      <td>...</td>\n",
       "    </tr>\n",
       "    <tr>\n",
       "      <th>10309</th>\n",
       "      <td>802309</td>\n",
       "      <td>No Depression by G Herbo is my mood from now o...</td>\n",
       "      <td>1</td>\n",
       "    </tr>\n",
       "    <tr>\n",
       "      <th>10310</th>\n",
       "      <td>802310</td>\n",
       "      <td>What do you do when depression succumbs the br...</td>\n",
       "      <td>1</td>\n",
       "    </tr>\n",
       "    <tr>\n",
       "      <th>10311</th>\n",
       "      <td>802311</td>\n",
       "      <td>Ketamine Nasal Spray Shows Promise Against Dep...</td>\n",
       "      <td>1</td>\n",
       "    </tr>\n",
       "    <tr>\n",
       "      <th>10312</th>\n",
       "      <td>802312</td>\n",
       "      <td>dont mistake a bad day with depression! everyo...</td>\n",
       "      <td>1</td>\n",
       "    </tr>\n",
       "    <tr>\n",
       "      <th>10313</th>\n",
       "      <td>802313</td>\n",
       "      <td>0</td>\n",
       "      <td>1</td>\n",
       "    </tr>\n",
       "  </tbody>\n",
       "</table>\n",
       "<p>10314 rows × 3 columns</p>\n",
       "</div>"
      ],
      "text/plain": [
       "        Index                                            message  label\n",
       "0         106  just had a real good moment. i missssssssss hi...      0\n",
       "1         217         is reading manga  http://plurk.com/p/mzp1e      0\n",
       "2         220  @comeagainjen http://twitpic.com/2y2lx - http:...      0\n",
       "3         288  @lapcat Need to send 'em to my accountant tomo...      0\n",
       "4         540      ADD ME ON MYSPACE!!!  myspace.com/LookThunder      0\n",
       "...       ...                                                ...    ...\n",
       "10309  802309  No Depression by G Herbo is my mood from now o...      1\n",
       "10310  802310  What do you do when depression succumbs the br...      1\n",
       "10311  802311  Ketamine Nasal Spray Shows Promise Against Dep...      1\n",
       "10312  802312  dont mistake a bad day with depression! everyo...      1\n",
       "10313  802313                                                  0      1\n",
       "\n",
       "[10314 rows x 3 columns]"
      ]
     },
     "execution_count": 104,
     "metadata": {},
     "output_type": "execute_result"
    }
   ],
   "source": [
    "## dataset after renaming\n",
    "dataset"
   ]
  },
  {
   "cell_type": "code",
   "execution_count": 105,
   "id": "6b2158e5",
   "metadata": {},
   "outputs": [],
   "source": [
    "## the message and label will be used for the analysis\n",
    "dataset = dataset[['message', 'label']]"
   ]
  },
  {
   "cell_type": "code",
   "execution_count": 106,
   "id": "89322ec9",
   "metadata": {},
   "outputs": [
    {
     "data": {
      "text/html": [
       "<div>\n",
       "<style scoped>\n",
       "    .dataframe tbody tr th:only-of-type {\n",
       "        vertical-align: middle;\n",
       "    }\n",
       "\n",
       "    .dataframe tbody tr th {\n",
       "        vertical-align: top;\n",
       "    }\n",
       "\n",
       "    .dataframe thead th {\n",
       "        text-align: right;\n",
       "    }\n",
       "</style>\n",
       "<table border=\"1\" class=\"dataframe\">\n",
       "  <thead>\n",
       "    <tr style=\"text-align: right;\">\n",
       "      <th></th>\n",
       "      <th>message</th>\n",
       "      <th>label</th>\n",
       "    </tr>\n",
       "  </thead>\n",
       "  <tbody>\n",
       "    <tr>\n",
       "      <th>0</th>\n",
       "      <td>just had a real good moment. i missssssssss hi...</td>\n",
       "      <td>0</td>\n",
       "    </tr>\n",
       "    <tr>\n",
       "      <th>1</th>\n",
       "      <td>is reading manga  http://plurk.com/p/mzp1e</td>\n",
       "      <td>0</td>\n",
       "    </tr>\n",
       "    <tr>\n",
       "      <th>2</th>\n",
       "      <td>@comeagainjen http://twitpic.com/2y2lx - http:...</td>\n",
       "      <td>0</td>\n",
       "    </tr>\n",
       "    <tr>\n",
       "      <th>3</th>\n",
       "      <td>@lapcat Need to send 'em to my accountant tomo...</td>\n",
       "      <td>0</td>\n",
       "    </tr>\n",
       "    <tr>\n",
       "      <th>4</th>\n",
       "      <td>ADD ME ON MYSPACE!!!  myspace.com/LookThunder</td>\n",
       "      <td>0</td>\n",
       "    </tr>\n",
       "    <tr>\n",
       "      <th>5</th>\n",
       "      <td>so sleepy. good times tonight though</td>\n",
       "      <td>0</td>\n",
       "    </tr>\n",
       "    <tr>\n",
       "      <th>6</th>\n",
       "      <td>@SilkCharm re: #nbn as someone already said, d...</td>\n",
       "      <td>0</td>\n",
       "    </tr>\n",
       "    <tr>\n",
       "      <th>7</th>\n",
       "      <td>23 or 24ï¿½C possible today. Nice</td>\n",
       "      <td>0</td>\n",
       "    </tr>\n",
       "    <tr>\n",
       "      <th>8</th>\n",
       "      <td>nite twitterville  workout in the am  -ciao</td>\n",
       "      <td>0</td>\n",
       "    </tr>\n",
       "    <tr>\n",
       "      <th>9</th>\n",
       "      <td>@daNanner Night, darlin'!  Sweet dreams to you</td>\n",
       "      <td>0</td>\n",
       "    </tr>\n",
       "  </tbody>\n",
       "</table>\n",
       "</div>"
      ],
      "text/plain": [
       "                                             message  label\n",
       "0  just had a real good moment. i missssssssss hi...      0\n",
       "1         is reading manga  http://plurk.com/p/mzp1e      0\n",
       "2  @comeagainjen http://twitpic.com/2y2lx - http:...      0\n",
       "3  @lapcat Need to send 'em to my accountant tomo...      0\n",
       "4      ADD ME ON MYSPACE!!!  myspace.com/LookThunder      0\n",
       "5              so sleepy. good times tonight though       0\n",
       "6  @SilkCharm re: #nbn as someone already said, d...      0\n",
       "7                 23 or 24ï¿½C possible today. Nice       0\n",
       "8        nite twitterville  workout in the am  -ciao      0\n",
       "9    @daNanner Night, darlin'!  Sweet dreams to you       0"
      ]
     },
     "execution_count": 106,
     "metadata": {},
     "output_type": "execute_result"
    }
   ],
   "source": [
    "dataset.head(10)"
   ]
  },
  {
   "cell_type": "code",
   "execution_count": 107,
   "id": "e00d2560",
   "metadata": {},
   "outputs": [
    {
     "data": {
      "text/plain": [
       "0    8000\n",
       "1    2314\n",
       "Name: label, dtype: int64"
      ]
     },
     "execution_count": 107,
     "metadata": {},
     "output_type": "execute_result"
    }
   ],
   "source": [
    "dataset['label'].value_counts() ## counts of positive and negative"
   ]
  },
  {
   "cell_type": "code",
   "execution_count": 108,
   "id": "559ba548",
   "metadata": {},
   "outputs": [
    {
     "data": {
      "text/plain": [
       "<AxesSubplot:xlabel='label', ylabel='Count'>"
      ]
     },
     "execution_count": 108,
     "metadata": {},
     "output_type": "execute_result"
    },
    {
     "data": {
      "image/png": "[encoded data removed]",
      "text/plain": [
       "<Figure size 720x720 with 1 Axes>"
      ]
     },
     "metadata": {
      "needs_background": "light"
     },
     "output_type": "display_data"
    }
   ],
   "source": [
    "## histogram distribution for the label counts\n",
    "fig = plt.figure(figsize = (10,10))\n",
    "sns.histplot(data = dataset, x = 'label')"
   ]
  },
  {
   "cell_type": "markdown",
   "id": "b13b32e2",
   "metadata": {},
   "source": [
    "## TOKENIZING THE TEXT TO NUMERICAL VALUES"
   ]
  },
  {
   "cell_type": "code",
   "execution_count": 109,
   "id": "49752af7",
   "metadata": {},
   "outputs": [],
   "source": [
    "tokenizer = Tokenizer(num_words = 6000, split = ' ')\n",
    "tokenizer.fit_on_texts(dataset['message'].values)\n",
    "vocab_size = len(tokenizer.word_index) + 1\n",
    "X = tokenizer.texts_to_sequences(dataset['message'].values)\n",
    "X = pad_sequences(X)\n",
    "y = dataset['label'].values"
   ]
  },
  {
   "cell_type": "code",
   "execution_count": 110,
   "id": "c27b2060",
   "metadata": {
    "scrolled": true
   },
   "outputs": [
    {
     "data": {
      "text/plain": [
       "array([[   0,    0,    0, ...,  209,   20,   94],\n",
       "       [   0,    0,    0, ...,  578,   19,  267],\n",
       "       [   0,    0,    0, ...,   19,  206,  537],\n",
       "       ...,\n",
       "       [   0,    0,    0, ...,   46, 3503,   11],\n",
       "       [   0,    0,    0, ...,  140,   81, 2507],\n",
       "       [   0,    0,    0, ...,    0,    0,  658]])"
      ]
     },
     "execution_count": 110,
     "metadata": {},
     "output_type": "execute_result"
    }
   ],
   "source": [
    "X"
   ]
  },
  {
   "cell_type": "code",
   "execution_count": 111,
   "id": "ca2c2ae8",
   "metadata": {},
   "outputs": [],
   "source": [
    "#y = y.reshape(-1, 1) ## reshaping"
   ]
  },
  {
   "cell_type": "code",
   "execution_count": 112,
   "id": "3cbf5441",
   "metadata": {},
   "outputs": [
    {
     "data": {
      "text/plain": [
       "array([0, 0, 0, ..., 1, 1, 1], dtype=int64)"
      ]
     },
     "execution_count": 112,
     "metadata": {},
     "output_type": "execute_result"
    }
   ],
   "source": [
    "y "
   ]
  },
  {
   "cell_type": "markdown",
   "id": "97d39469",
   "metadata": {},
   "source": [
    "## SPLITTING DATA"
   ]
  },
  {
   "cell_type": "code",
   "execution_count": 113,
   "id": "9b37d677",
   "metadata": {},
   "outputs": [
    {
     "name": "stdout",
     "output_type": "stream",
     "text": [
      "(8251, 72) (8251,)\n",
      "(2063, 72) (2063,)\n"
     ]
    }
   ],
   "source": [
    "X_train, X_test, y_train, y_test = train_test_split(X, y, test_size = 0.20, random_state = 0)\n",
    "print(X_train.shape, y_train.shape) ## printing the shape of the train set\n",
    "print(X_test.shape, y_test.shape) ## printing the shape of the test set"
   ]
  },
  {
   "cell_type": "markdown",
   "id": "6f9a00a8",
   "metadata": {},
   "source": [
    "## DEFINING THE MODEL"
   ]
  },
  {
   "cell_type": "code",
   "execution_count": 114,
   "id": "4111950f",
   "metadata": {},
   "outputs": [
    {
     "name": "stdout",
     "output_type": "stream",
     "text": [
      "Model: \"sequential_11\"\n",
      "_________________________________________________________________\n",
      " Layer (type)                Output Shape              Param #   \n",
      "=================================================================\n",
      " embedding_10 (Embedding)    (None, 72, 70)            1623720   \n",
      "                                                                 \n",
      " spatial_dropout1d_10 (Spati  (None, 72, 70)           0         \n",
      " alDropout1D)                                                    \n",
      "                                                                 \n",
      " lstm_10 (LSTM)              (None, 50)                24200     \n",
      "                                                                 \n",
      " dropout_10 (Dropout)        (None, 50)                0         \n",
      "                                                                 \n",
      " dense_10 (Dense)            (None, 2)                 102       \n",
      "                                                                 \n",
      "=================================================================\n",
      "Total params: 1,648,022\n",
      "Trainable params: 1,648,022\n",
      "Non-trainable params: 0\n",
      "_________________________________________________________________\n"
     ]
    }
   ],
   "source": [
    "embedded_dim = 70\n",
    "model = tf.keras.models.Sequential()\n",
    "model.add(Embedding(vocab_size , embedded_dim, input_length = X.shape[1])) ## lowering the dimensionality of categorical variables\n",
    "model.add(SpatialDropout1D(0.25)) ## \n",
    "model.add(LSTM(50, dropout=0.5, recurrent_dropout=0.5))\n",
    "model.add(Dropout(0.2)) ## regularizing to creates a robust network\n",
    "model.add(Dense(2, activation='softmax'))\n",
    "model.compile(optimizer='adam', loss = 'sparse_categorical_crossentropy', metrics = ['accuracy']) ## multi class classification\n",
    "model.summary()"
   ]
  },
  {
   "cell_type": "code",
   "execution_count": 115,
   "id": "b3a9ed3f",
   "metadata": {},
   "outputs": [
    {
     "name": "stdout",
     "output_type": "stream",
     "text": [
      "Epoch 1/50\n",
      "258/258 [==============================] - 29s 102ms/step - loss: 0.2121 - accuracy: 0.9107 - val_loss: 0.0182 - val_accuracy: 0.9966\n",
      "Epoch 2/50\n",
      "258/258 [==============================] - 25s 98ms/step - loss: 0.0172 - accuracy: 0.9968 - val_loss: 0.0155 - val_accuracy: 0.9961\n",
      "Epoch 3/50\n",
      "258/258 [==============================] - 27s 106ms/step - loss: 0.0087 - accuracy: 0.9984 - val_loss: 0.0192 - val_accuracy: 0.9942\n",
      "Epoch 4/50\n",
      "258/258 [==============================] - 27s 106ms/step - loss: 0.0059 - accuracy: 0.9990 - val_loss: 0.0181 - val_accuracy: 0.9956\n",
      "Epoch 5/50\n",
      "258/258 [==============================] - 30s 114ms/step - loss: 0.0034 - accuracy: 0.9992 - val_loss: 0.0215 - val_accuracy: 0.9952\n",
      "Epoch 6/50\n",
      "258/258 [==============================] - 30s 116ms/step - loss: 0.0052 - accuracy: 0.9988 - val_loss: 0.0214 - val_accuracy: 0.9961\n",
      "Epoch 7/50\n",
      "258/258 [==============================] - 32s 124ms/step - loss: 0.0019 - accuracy: 0.9996 - val_loss: 0.0229 - val_accuracy: 0.9956\n",
      "Epoch 8/50\n",
      "258/258 [==============================] - 30s 115ms/step - loss: 0.0031 - accuracy: 0.9993 - val_loss: 0.0282 - val_accuracy: 0.9966\n",
      "Epoch 9/50\n",
      "258/258 [==============================] - 28s 110ms/step - loss: 9.4044e-04 - accuracy: 0.9998 - val_loss: 0.0209 - val_accuracy: 0.9966\n",
      "Epoch 10/50\n",
      "258/258 [==============================] - 29s 113ms/step - loss: 8.3211e-04 - accuracy: 0.9999 - val_loss: 0.0303 - val_accuracy: 0.9966\n",
      "Epoch 11/50\n",
      "258/258 [==============================] - 29s 113ms/step - loss: 9.5950e-04 - accuracy: 0.9999 - val_loss: 0.0296 - val_accuracy: 0.9966\n",
      "Epoch 12/50\n",
      "258/258 [==============================] - 30s 114ms/step - loss: 0.0063 - accuracy: 0.9988 - val_loss: 0.0282 - val_accuracy: 0.9961\n",
      "Epoch 13/50\n",
      "258/258 [==============================] - 29s 111ms/step - loss: 0.0015 - accuracy: 0.9996 - val_loss: 0.0241 - val_accuracy: 0.9961\n",
      "Epoch 14/50\n",
      "258/258 [==============================] - 29s 112ms/step - loss: 0.0034 - accuracy: 0.9995 - val_loss: 0.0254 - val_accuracy: 0.9966\n",
      "Epoch 15/50\n",
      "258/258 [==============================] - 29s 114ms/step - loss: 0.0017 - accuracy: 0.9998 - val_loss: 0.0304 - val_accuracy: 0.9966\n",
      "Epoch 16/50\n",
      "258/258 [==============================] - 29s 111ms/step - loss: 6.6592e-04 - accuracy: 0.9999 - val_loss: 0.0253 - val_accuracy: 0.9961\n",
      "Epoch 17/50\n",
      "258/258 [==============================] - 29s 111ms/step - loss: 8.0236e-04 - accuracy: 0.9998 - val_loss: 0.0308 - val_accuracy: 0.9961\n",
      "Epoch 18/50\n",
      "258/258 [==============================] - 29s 114ms/step - loss: 0.0010 - accuracy: 0.9998 - val_loss: 0.0352 - val_accuracy: 0.9966\n",
      "Epoch 19/50\n",
      "258/258 [==============================] - 29s 112ms/step - loss: 0.0096 - accuracy: 0.9971 - val_loss: 0.0371 - val_accuracy: 0.9966\n",
      "Epoch 20/50\n",
      "258/258 [==============================] - 29s 113ms/step - loss: 0.0011 - accuracy: 0.9998 - val_loss: 0.0286 - val_accuracy: 0.9961\n",
      "Epoch 21/50\n",
      "258/258 [==============================] - 29s 111ms/step - loss: 0.0017 - accuracy: 0.9995 - val_loss: 0.0360 - val_accuracy: 0.9966\n",
      "Epoch 22/50\n",
      "258/258 [==============================] - 29s 113ms/step - loss: 7.0861e-04 - accuracy: 0.9999 - val_loss: 0.0316 - val_accuracy: 0.9956\n",
      "Epoch 23/50\n",
      "258/258 [==============================] - 31s 121ms/step - loss: 7.5775e-04 - accuracy: 0.9998 - val_loss: 0.0313 - val_accuracy: 0.9956\n",
      "Epoch 24/50\n",
      "258/258 [==============================] - 29s 113ms/step - loss: 1.8653e-04 - accuracy: 1.0000 - val_loss: 0.0292 - val_accuracy: 0.9971\n",
      "Epoch 25/50\n",
      "258/258 [==============================] - 29s 114ms/step - loss: 0.0012 - accuracy: 0.9998 - val_loss: 0.0289 - val_accuracy: 0.9971\n",
      "Epoch 26/50\n",
      "258/258 [==============================] - 29s 113ms/step - loss: 2.6695e-04 - accuracy: 0.9999 - val_loss: 0.0292 - val_accuracy: 0.9971\n",
      "Epoch 27/50\n",
      "258/258 [==============================] - 30s 115ms/step - loss: 1.7960e-04 - accuracy: 0.9999 - val_loss: 0.0308 - val_accuracy: 0.9966\n",
      "Epoch 28/50\n",
      "258/258 [==============================] - 30s 117ms/step - loss: 2.0048e-04 - accuracy: 1.0000 - val_loss: 0.0297 - val_accuracy: 0.9971\n",
      "Epoch 29/50\n",
      "258/258 [==============================] - 29s 111ms/step - loss: 8.5224e-05 - accuracy: 1.0000 - val_loss: 0.0345 - val_accuracy: 0.9971\n",
      "Epoch 30/50\n",
      "258/258 [==============================] - 29s 114ms/step - loss: 0.0010 - accuracy: 0.9999 - val_loss: 0.0327 - val_accuracy: 0.9966\n",
      "Epoch 31/50\n",
      "258/258 [==============================] - 34s 133ms/step - loss: 0.0027 - accuracy: 0.9995 - val_loss: 0.0261 - val_accuracy: 0.9956\n",
      "Epoch 32/50\n",
      "258/258 [==============================] - 33s 128ms/step - loss: 6.5516e-04 - accuracy: 0.9998 - val_loss: 0.0261 - val_accuracy: 0.9956\n",
      "Epoch 33/50\n",
      "258/258 [==============================] - 32s 125ms/step - loss: 0.0013 - accuracy: 0.9998 - val_loss: 0.0333 - val_accuracy: 0.9937\n",
      "Epoch 34/50\n",
      "258/258 [==============================] - 34s 133ms/step - loss: 0.0017 - accuracy: 0.9995 - val_loss: 0.0277 - val_accuracy: 0.9971\n",
      "Epoch 35/50\n",
      "258/258 [==============================] - 31s 122ms/step - loss: 2.3183e-04 - accuracy: 0.9999 - val_loss: 0.0268 - val_accuracy: 0.9971\n",
      "Epoch 36/50\n",
      "258/258 [==============================] - 31s 121ms/step - loss: 3.8616e-04 - accuracy: 0.9999 - val_loss: 0.0272 - val_accuracy: 0.9971\n",
      "Epoch 37/50\n",
      "258/258 [==============================] - 31s 118ms/step - loss: 7.8456e-04 - accuracy: 0.9996 - val_loss: 0.0323 - val_accuracy: 0.9961\n",
      "Epoch 38/50\n",
      "258/258 [==============================] - 29s 113ms/step - loss: 8.4998e-04 - accuracy: 0.9999 - val_loss: 0.0289 - val_accuracy: 0.9966\n",
      "Epoch 39/50\n",
      "258/258 [==============================] - 29s 114ms/step - loss: 1.3671e-04 - accuracy: 1.0000 - val_loss: 0.0306 - val_accuracy: 0.9966\n",
      "Epoch 40/50\n",
      "258/258 [==============================] - 30s 116ms/step - loss: 7.0776e-05 - accuracy: 1.0000 - val_loss: 0.0324 - val_accuracy: 0.9971\n",
      "Epoch 41/50\n",
      "258/258 [==============================] - 30s 116ms/step - loss: 7.2389e-05 - accuracy: 1.0000 - val_loss: 0.0325 - val_accuracy: 0.9971\n",
      "Epoch 42/50\n",
      "258/258 [==============================] - 31s 119ms/step - loss: 3.4953e-05 - accuracy: 1.0000 - val_loss: 0.0333 - val_accuracy: 0.9971\n",
      "Epoch 43/50\n",
      "258/258 [==============================] - 30s 118ms/step - loss: 2.3441e-05 - accuracy: 1.0000 - val_loss: 0.0339 - val_accuracy: 0.9971\n",
      "Epoch 44/50\n",
      "258/258 [==============================] - 30s 117ms/step - loss: 3.6117e-05 - accuracy: 1.0000 - val_loss: 0.0333 - val_accuracy: 0.9971\n",
      "Epoch 45/50\n",
      "258/258 [==============================] - 30s 118ms/step - loss: 2.2526e-05 - accuracy: 1.0000 - val_loss: 0.0349 - val_accuracy: 0.9971\n",
      "Epoch 46/50\n",
      "258/258 [==============================] - 32s 124ms/step - loss: 3.4415e-05 - accuracy: 1.0000 - val_loss: 0.0359 - val_accuracy: 0.9971\n",
      "Epoch 47/50\n",
      "258/258 [==============================] - 30s 115ms/step - loss: 2.9471e-04 - accuracy: 0.9999 - val_loss: 0.0384 - val_accuracy: 0.9961\n",
      "Epoch 48/50\n",
      "258/258 [==============================] - 31s 120ms/step - loss: 2.4760e-05 - accuracy: 1.0000 - val_loss: 0.0369 - val_accuracy: 0.9966\n",
      "Epoch 49/50\n",
      "258/258 [==============================] - 30s 117ms/step - loss: 4.9738e-04 - accuracy: 0.9999 - val_loss: 0.0308 - val_accuracy: 0.9966\n",
      "Epoch 50/50\n",
      "258/258 [==============================] - 30s 117ms/step - loss: 0.0011 - accuracy: 0.9999 - val_loss: 0.0320 - val_accuracy: 0.9961\n"
     ]
    }
   ],
   "source": [
    "## training on 50 epochs\n",
    "history = model.fit(X_train, y_train, epochs = 50, validation_data = (X_test, y_test))"
   ]
  },
  {
   "cell_type": "markdown",
   "id": "1dd731bc",
   "metadata": {},
   "source": [
    "## VISUALIZING THE ACCURACY AND LOSS"
   ]
  },
  {
   "cell_type": "code",
   "execution_count": 116,
   "id": "379ec723",
   "metadata": {},
   "outputs": [
    {
     "data": {
      "image/png": "[encoded data removed]",
      "text/plain": [
       "<Figure size 720x720 with 1 Axes>"
      ]
     },
     "metadata": {
      "needs_background": "light"
     },
     "output_type": "display_data"
    }
   ],
   "source": [
    "## plotting a histogram over the 50 epochs and plotting the accuracy and value accuracy\n",
    "plt.figure(figsize = (10,10))\n",
    "plt.plot(history.history['accuracy'], label = 'ACCURACY')\n",
    "plt.plot(history.history['val_accuracy'], label = 'VALUE_ACCURACY')\n",
    "plt.title('MODEL ACCURACY AND VALUE ACCURACY')\n",
    "plt.legend()\n",
    "plt.show()"
   ]
  },
  {
   "cell_type": "code",
   "execution_count": 117,
   "id": "08192586",
   "metadata": {
    "scrolled": true
   },
   "outputs": [
    {
     "data": {
      "image/png": "[encoded data removed]",
      "text/plain": [
       "<Figure size 720x720 with 1 Axes>"
      ]
     },
     "metadata": {
      "needs_background": "light"
     },
     "output_type": "display_data"
    }
   ],
   "source": [
    "plt.figure(figsize = (10,10))\n",
    "plt.plot(history.history['loss'], label = 'LOSS')\n",
    "plt.plot(history.history['val_loss'], label = 'VAL_LOSS')\n",
    "plt.title('MODEL LOSS AND VALUE LOSS')\n",
    "plt.legend()\n",
    "plt.show()"
   ]
  },
  {
   "cell_type": "markdown",
   "id": "b875a0f8",
   "metadata": {},
   "source": [
    "## MEAN SQUARE ROOT"
   ]
  },
  {
   "cell_type": "code",
   "execution_count": 118,
   "id": "46008764",
   "metadata": {},
   "outputs": [
    {
     "name": "stdout",
     "output_type": "stream",
     "text": [
      "The mean squared error (MSE) for the test data set is: [0.03195676580071449, 0.9961221814155579]\n"
     ]
    }
   ],
   "source": [
    "test_error_rate = model.evaluate(X_test, y_test, verbose=0)\n",
    "print(\"The mean squared error (MSE) for the test data set is: {}\".format(test_error_rate))"
   ]
  }
 ],
 "metadata": {
  "kernelspec": {
   "display_name": "Python 3 (ipykernel)",
   "language": "python",
   "name": "python3"
  },
  "language_info": {
   "codemirror_mode": {
    "name": "ipython",
    "version": 3
   },
   "file_extension": ".py",
   "mimetype": "text/x-python",
   "name": "python",
   "nbconvert_exporter": "python",
   "pygments_lexer": "ipython3",
   "version": "3.9.7"
  }
 },
 "nbformat": 4,
 "nbformat_minor": 5
}
